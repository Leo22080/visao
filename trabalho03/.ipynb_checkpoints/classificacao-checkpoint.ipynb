{
 "cells": [
  {
   "cell_type": "markdown",
   "id": "ab7f754a",
   "metadata": {},
   "source": [
    "<h1>Trabalho 3 - Classificação</h1>"
   ]
  },
  {
   "cell_type": "code",
   "execution_count": 81,
   "id": "96daafb6",
   "metadata": {},
   "outputs": [],
   "source": [
    "import numpy as np\n",
    "import pandas as pd\n",
    "import matplotlib.pyplot as plt\n",
    "from os import path\n",
    "import cv2\n",
    "import scipy.misc"
   ]
  },
  {
   "cell_type": "code",
   "execution_count": 82,
   "id": "1d1104de",
   "metadata": {},
   "outputs": [],
   "source": [
    "dados = np.loadtxt('ocr_car_numbers_rotulado.txt')"
   ]
  },
  {
   "cell_type": "markdown",
   "id": "8fe07be3",
   "metadata": {},
   "source": [
    "<h4>Funções auxiliares:</h4>"
   ]
  },
  {
   "cell_type": "code",
   "execution_count": 83,
   "id": "62bad2c6",
   "metadata": {},
   "outputs": [],
   "source": [
    "def getImage(data, row):\n",
    "    image = data[row, :-1] #seleciona a lilha e apaga o útima coluna\n",
    "    image.shape = (35, 35) #converte para duas dimensões\n",
    "    image[image==1]=255\n",
    "    image = np.uint8(image)\n",
    "    return image\n",
    "\n",
    "def getChainCode(x1, y1, x2, y2): \n",
    "    dx = x2 - x1 \n",
    "    dy = y2 - y1 \n",
    "    \n",
    "    if dx>0: #Significa que as posições podem ser (5,4,3)\n",
    "        if dy <0 :\n",
    "            code = 5\n",
    "        elif dy==0:\n",
    "            code = 4\n",
    "        else:\n",
    "            code = 3\n",
    "\n",
    "    elif dx==0: # Significa que as posicoes podem ser (6,2)\n",
    "        if dy<0:\n",
    "            code = 6\n",
    "        elif dy>0:\n",
    "            code = 2\n",
    "        else:\n",
    "            code=8\n",
    "    else: #Significa que as posicoes podem ser (7,0,1)\n",
    "        if dy<0:\n",
    "            code = 7\n",
    "        elif dy==0:\n",
    "            code = 0\n",
    "        else:\n",
    "            code = 1\n",
    "\n",
    "    return code \n",
    "\n",
    "def generateChainCode(ListOfPoints): \n",
    "    chainCode = [] \n",
    "    textChain = \" \"\n",
    "    for i in range(len(ListOfPoints)):\n",
    "        a = ListOfPoints[i][0]\n",
    "        #print(\"valor de A = \",a[0],a[1]) \n",
    "        if i != len(ListOfPoints)-1:\n",
    "            b = ListOfPoints[i + 1][0]\n",
    "            #print(\"valor de B = \",b[0],b[1])\n",
    "        else :\n",
    "            b = ListOfPoints[0][0] \n",
    "        chainCode.append(getChainCode(a[0], a[1], b[0], b[1]))\n",
    "        textChain = textChain + str(getChainCode(a[0], a[1], b[0], b[1]))\n",
    "        textChainT = str(getChainCode(a[0], a[1], b[0], b[1]))\n",
    "        \n",
    "    return chainCode,textChain \n",
    "\n",
    "def normalizar(signal, smaller):\n",
    "    \n",
    "    index = 0\n",
    "    newSignal = []\n",
    "    prop = len(signal)/smaller\n",
    "    d = prop\n",
    "    \n",
    "    while len(newSignal) < smaller:\n",
    "        \n",
    "        newSignal.append(signal[index])\n",
    "        i, d = divmod(d, 1) #separa a pater inteira da parte decimal\n",
    "        index += int(i) #adiciona a parte inteira ao indice\n",
    "        d += prop #adiciona ao resto a proporcao        \n",
    "        \n",
    "    return newSignal\n",
    "\n",
    "def centroid(img):\n",
    "    ret,thresh = cv2.threshold(img,200,255,cv2.THRESH_BINARY)\n",
    "    height, width = thresh.shape[:2]\n",
    "\n",
    "    mass = 0\n",
    "    Xcm  = 0.0\n",
    "    Ycm  = 0.0\n",
    "\n",
    "    for i in range(width) :\n",
    "        for j in range(height) :\n",
    "            if not thresh[j][i] :\n",
    "                mass += 1\n",
    "                Xcm  += i\n",
    "                Ycm  += j\n",
    "\n",
    "    return  [Ycm/mass, Xcm/mass]\n",
    "\n",
    "def signature(image):\n",
    "    sign = []\n",
    "    contours, _ = cv2.findContours(image,cv2.RETR_EXTERNAL,cv2.CHAIN_APPROX_NONE)\n",
    "    center = centroid(image)\n",
    "    for i in range(len(contours[0])):\n",
    "        point = contours[0][i][0]\n",
    "        dist = np.linalg.norm(point-center)\n",
    "        sign.append(dist)\n",
    "    \n",
    "    return sign\n"
   ]
  },
  {
   "cell_type": "code",
   "execution_count": 84,
   "id": "f65fcc4f",
   "metadata": {},
   "outputs": [],
   "source": [
    "#extraindo as imagens da fonte de dados\n",
    "imgs = [getImage(dados, i) for i in range(len(dados))]\n",
    "\n",
    "#array de bordas\n",
    "kernel = np.ones((3,3), np.uint8)\n",
    "edges = [cv2.dilate(img, kernel, iterations=1) - img for img in imgs]"
   ]
  },
  {
   "cell_type": "code",
   "execution_count": 85,
   "id": "78953e6a",
   "metadata": {},
   "outputs": [],
   "source": [
    "#retirando as coordenadas do array de bordas \n",
    "n_contours = []\n",
    "\n",
    "for i in range(len(edges)):\n",
    "    contours, hierarchy = cv2.findContours(edges[i],cv2.RETR_EXTERNAL,cv2.CHAIN_APPROX_NONE)\n",
    "    n_contours.append(contours)\n"
   ]
  },
  {
   "cell_type": "code",
   "execution_count": 86,
   "id": "dd54eeee",
   "metadata": {},
   "outputs": [],
   "source": [
    "#montando o dataset do codigo da cadeia\n",
    "chainCodes = []\n",
    "\n",
    "for contours in n_contours:\n",
    "    chainCode,tsx = generateChainCode(contours[0])\n",
    "    chainCodes.append(chainCode)\n",
    "    \n",
    "smaller = min([len(chainCode) for chainCode in chainCodes]) #pega o comprimento da menor cadeia\n",
    "chainCodes = [normalizar(chainCode, smaller) for chainCode in chainCodes] #faz a normalização das cadeias\n",
    "\n",
    "chainCodes = np.array(chainCodes)"
   ]
  },
  {
   "cell_type": "code",
   "execution_count": 87,
   "id": "fd563fca",
   "metadata": {},
   "outputs": [],
   "source": [
    "#montando o dataset das assinaturas\n",
    "signatures = [signature(img) for img in imgs]\n",
    "\n",
    "smaller = min([len(signature) for signature in signatures]) #pega o comprimento da menor cadeia\n",
    "signatures = [normalizar(signature, smaller) for signature in signatures] #faz a normalização das cadeias\n",
    "\n",
    "signatures = np.array(signatures)"
   ]
  },
  {
   "cell_type": "markdown",
   "id": "fbb0b9ae",
   "metadata": {},
   "source": [
    "<h2>Classificador 1 - SVM (MÁQUINA DE VETORES DE SUPORTE)</h2>\n",
    "<h3>Classificador SVM com o dataset chainCodes<h/3>"
   ]
  },
  {
   "cell_type": "code",
   "execution_count": 88,
   "id": "1cff3335",
   "metadata": {},
   "outputs": [],
   "source": [
    "from sklearn.model_selection import train_test_split\n",
    "\n",
    "X = chainCodes\n",
    "y = dados[:,-1]\n",
    "\n",
    "# Separando os dados de treino e teste:\n",
    "X_train, X_test, y_train, y_test = train_test_split(X, y ,test_size=0.2, random_state=30)"
   ]
  },
  {
   "cell_type": "code",
   "execution_count": 89,
   "id": "e8b218b9",
   "metadata": {},
   "outputs": [
    {
     "name": "stdout",
     "output_type": "stream",
     "text": [
      "score = 0.99\n",
      "best parameters from train data:  {'SVM__C': 0.001, 'SVM__gamma': 1}\n"
     ]
    }
   ],
   "source": [
    "from sklearn.preprocessing import StandardScaler\n",
    "from sklearn.pipeline import Pipeline\n",
    "from sklearn.svm import SVC\n",
    "from sklearn.model_selection import GridSearchCV\n",
    "\n",
    "# Pipeline:\n",
    "steps = [('scaler', StandardScaler()), ('SVM', SVC(kernel='poly'))]\n",
    "pipeline = Pipeline(steps)\n",
    "\n",
    "# Utilizando o GridSearchCV para o ajuste dos parâmetros:\n",
    "parameters = {'SVM__C':[0.001, 0.1, 100, 10e5], 'SVM__gamma':[10,1,0.1,0.01]}\n",
    "grid = GridSearchCV(pipeline, param_grid=parameters, cv=5)\n",
    "\n",
    "# Treinando o modelo:\n",
    "grid.fit(X_train, y_train)\n",
    "print (\"score = %3.2f\" %(grid.score(X_test, y_test)))\n",
    "print (\"best parameters from train data: \", grid.best_params_)"
   ]
  },
  {
   "cell_type": "code",
   "execution_count": 90,
   "id": "110b3512",
   "metadata": {},
   "outputs": [],
   "source": [
    "# Instanciando o algoritmo e passando os melhores parâmetros:\n",
    "svc = SVC(C=0.001,gamma=1,kernel='poly')"
   ]
  },
  {
   "cell_type": "code",
   "execution_count": 91,
   "id": "96550c08",
   "metadata": {},
   "outputs": [
    {
     "name": "stdout",
     "output_type": "stream",
     "text": [
      "              precision    recall  f1-score   support\n",
      "\n",
      "         0.0       0.89      0.92      0.90        59\n",
      "         1.0       0.99      1.00      0.99        81\n",
      "         2.0       1.00      1.00      1.00        54\n",
      "         3.0       1.00      0.99      0.99        74\n",
      "         4.0       1.00      0.99      0.99        82\n",
      "         5.0       1.00      1.00      1.00        73\n",
      "         6.0       1.00      1.00      1.00        79\n",
      "         7.0       1.00      1.00      1.00        59\n",
      "         8.0       0.91      0.89      0.90        56\n",
      "         9.0       1.00      1.00      1.00        54\n",
      "\n",
      "    accuracy                           0.98       671\n",
      "   macro avg       0.98      0.98      0.98       671\n",
      "weighted avg       0.98      0.98      0.98       671\n",
      "\n"
     ]
    }
   ],
   "source": [
    "# Treinando o modelo:\n",
    "svc.fit(X_train,y_train)\n",
    "\n",
    "# Realizando as predições:\n",
    "resultado = svc.predict(X_test)\n",
    "\n",
    "# Métricas de classificação:\n",
    "from sklearn import metrics\n",
    "print(metrics.classification_report(y_test,resultado))"
   ]
  },
  {
   "cell_type": "code",
   "execution_count": 92,
   "id": "7f69acdb",
   "metadata": {},
   "outputs": [
    {
     "name": "stdout",
     "output_type": "stream",
     "text": [
      "Predito  0.0  1.0  2.0  3.0  4.0  5.0  6.0  7.0  8.0  9.0  All\n",
      "Real                                                          \n",
      "0.0       54    0    0    0    0    0    0    0    5    0   59\n",
      "1.0        0   81    0    0    0    0    0    0    0    0   81\n",
      "2.0        0    0   54    0    0    0    0    0    0    0   54\n",
      "3.0        0    1    0   73    0    0    0    0    0    0   74\n",
      "4.0        1    0    0    0   81    0    0    0    0    0   82\n",
      "5.0        0    0    0    0    0   73    0    0    0    0   73\n",
      "6.0        0    0    0    0    0    0   79    0    0    0   79\n",
      "7.0        0    0    0    0    0    0    0   59    0    0   59\n",
      "8.0        6    0    0    0    0    0    0    0   50    0   56\n",
      "9.0        0    0    0    0    0    0    0    0    0   54   54\n",
      "All       61   82   54   73   81   73   79   59   55   54  671\n"
     ]
    }
   ],
   "source": [
    "# Matriz de confusão:\n",
    "print (pd.crosstab(y_test,resultado, rownames=['Real'], colnames=['Predito'], margins=True))"
   ]
  },
  {
   "cell_type": "markdown",
   "id": "53d06166",
   "metadata": {},
   "source": [
    "<h3>Classificador SVM com o dataset signatures<h/3>"
   ]
  },
  {
   "cell_type": "code",
   "execution_count": 93,
   "id": "a4d54ec6",
   "metadata": {},
   "outputs": [],
   "source": [
    "X = signatures\n",
    "y = dados[:,-1]\n",
    "\n",
    "# Separando os dados de treino e teste:\n",
    "X_train, X_test, y_train, y_test = train_test_split(X, y ,test_size=0.2, random_state=30)"
   ]
  },
  {
   "cell_type": "code",
   "execution_count": 94,
   "id": "c3da98c6",
   "metadata": {},
   "outputs": [
    {
     "name": "stdout",
     "output_type": "stream",
     "text": [
      "score = 1.00\n",
      "best parameters from train data:  {'SVM__C': 0.1, 'SVM__gamma': 0.1}\n"
     ]
    }
   ],
   "source": [
    "from sklearn.preprocessing import StandardScaler\n",
    "from sklearn.pipeline import Pipeline\n",
    "from sklearn.svm import SVC\n",
    "from sklearn.model_selection import GridSearchCV\n",
    "\n",
    "# Pipeline:\n",
    "steps = [('scaler', StandardScaler()), ('SVM', SVC(kernel='poly'))]\n",
    "pipeline = Pipeline(steps)\n",
    "\n",
    "# Utilizando o GridSearchCV para o ajuste dos parâmetros:\n",
    "parameters = {'SVM__C':[0.001, 0.1, 100, 10e5], 'SVM__gamma':[10,1,0.1,0.01]}\n",
    "grid = GridSearchCV(pipeline, param_grid=parameters, cv=5)\n",
    "\n",
    "# Treinando o modelo:\n",
    "grid.fit(X_train, y_train)\n",
    "print (\"score = %3.2f\" %(grid.score(X_test, y_test)))\n",
    "print (\"best parameters from train data: \", grid.best_params_)"
   ]
  },
  {
   "cell_type": "code",
   "execution_count": 95,
   "id": "661f9ea6",
   "metadata": {},
   "outputs": [
    {
     "name": "stdout",
     "output_type": "stream",
     "text": [
      "              precision    recall  f1-score   support\n",
      "\n",
      "         0.0       0.97      0.97      0.97        59\n",
      "         1.0       0.99      1.00      0.99        81\n",
      "         2.0       1.00      1.00      1.00        54\n",
      "         3.0       1.00      0.99      0.99        74\n",
      "         4.0       1.00      1.00      1.00        82\n",
      "         5.0       1.00      1.00      1.00        73\n",
      "         6.0       1.00      1.00      1.00        79\n",
      "         7.0       1.00      1.00      1.00        59\n",
      "         8.0       0.96      0.96      0.96        56\n",
      "         9.0       1.00      1.00      1.00        54\n",
      "\n",
      "    accuracy                           0.99       671\n",
      "   macro avg       0.99      0.99      0.99       671\n",
      "weighted avg       0.99      0.99      0.99       671\n",
      "\n"
     ]
    }
   ],
   "source": [
    "# Instanciando o algoritmo e passando os melhores parâmetros:\n",
    "svc = SVC(C=0.1,gamma=0.1,kernel='poly')\n",
    "\n",
    "# Treinando o modelo:\n",
    "svc.fit(X_train,y_train)\n",
    "\n",
    "# Realizando as predições:\n",
    "resultado = svc.predict(X_test)\n",
    "\n",
    "# Métricas de classificação:\n",
    "from sklearn import metrics\n",
    "print(metrics.classification_report(y_test,resultado))"
   ]
  },
  {
   "cell_type": "markdown",
   "id": "f89b1d30",
   "metadata": {},
   "source": [
    "<h2>Classificador 2 - REDE NEURAL ARTIFICIAL (RNA)</h2>\n",
    "<h4>Rede Neural com dataset do chainCodes</h4>\n",
    "<p>Depois de carregado o dataset, e montado uma sequencia de camadas com a biblioteca Keras onde primeiro e definida a quantidade correta de inputs de entrada, no caso 67, utilizando o argumento input_dim. Foi utilizada seis camadas, as quais as quatro primeiras utilizarão a função de ativação ReLU e a função softmax na última.</p>"
   ]
  },
  {
   "cell_type": "code",
   "execution_count": 96,
   "id": "3c902fee",
   "metadata": {},
   "outputs": [],
   "source": [
    "# importar os pacotes necessários\n",
    "from tensorflow.keras.models import Sequential\n",
    "from tensorflow.keras.layers import Dense, Dropout, Activation\n",
    "from tensorflow.keras.optimizers import SGD, Adam\n",
    "from sklearn.metrics import confusion_matrix"
   ]
  },
  {
   "cell_type": "code",
   "execution_count": 97,
   "id": "af17601b",
   "metadata": {},
   "outputs": [],
   "source": [
    "from sklearn.model_selection import train_test_split\n",
    "X = chainCodes\n",
    "Y = dados[:,-1]\n",
    "X_train, X_test, y_train, y_test = train_test_split(X, Y, test_size=0.20, random_state=84)"
   ]
  },
  {
   "cell_type": "code",
   "execution_count": 98,
   "id": "c6e3b900",
   "metadata": {},
   "outputs": [],
   "source": [
    "from keras.utils.np_utils import to_categorical\n",
    "y_train_cat = to_categorical(y_train)\n",
    "y_test_cat = to_categorical(y_test)"
   ]
  },
  {
   "cell_type": "code",
   "execution_count": 99,
   "id": "2288c073",
   "metadata": {},
   "outputs": [],
   "source": [
    "model = Sequential()\n",
    "model.add(Dense(784, input_dim=67, activation='relu'))\n",
    "model.add(Dense(512, activation='relu'))\n",
    "model.add(Dense(256, activation='relu'))\n",
    "model.add(Dense(128, activation='relu'))\n",
    "model.add(Dense(32, activation='relu'))\n",
    "model.add(Dense(10, activation='softmax'))\n",
    "model.compile(optimizer='rmsprop', loss='categorical_crossentropy', metrics=['accuracy']) #Otimização do modelo\n"
   ]
  },
  {
   "cell_type": "code",
   "execution_count": 100,
   "id": "65d94d7c",
   "metadata": {},
   "outputs": [
    {
     "name": "stdout",
     "output_type": "stream",
     "text": [
      "Epoch 1/10\n",
      "76/76 [==============================] - 2s 17ms/step - loss: 1.0929 - accuracy: 0.6099 - val_loss: 0.2717 - val_accuracy: 0.8848\n",
      "Epoch 2/10\n",
      "76/76 [==============================] - 1s 16ms/step - loss: 0.2718 - accuracy: 0.8802 - val_loss: 0.1782 - val_accuracy: 0.9033\n",
      "Epoch 3/10\n",
      "76/76 [==============================] - 1s 15ms/step - loss: 0.2428 - accuracy: 0.8885 - val_loss: 0.8751 - val_accuracy: 0.7807\n",
      "Epoch 4/10\n",
      "76/76 [==============================] - 1s 16ms/step - loss: 0.2182 - accuracy: 0.8947 - val_loss: 0.3438 - val_accuracy: 0.8996\n",
      "Epoch 5/10\n",
      "76/76 [==============================] - 1s 15ms/step - loss: 0.2504 - accuracy: 0.8976 - val_loss: 0.1176 - val_accuracy: 0.9294\n",
      "Epoch 6/10\n",
      "76/76 [==============================] - 1s 15ms/step - loss: 0.1605 - accuracy: 0.9104 - val_loss: 0.1160 - val_accuracy: 0.9554\n",
      "Epoch 7/10\n",
      "76/76 [==============================] - 1s 15ms/step - loss: 0.1658 - accuracy: 0.9142 - val_loss: 0.1203 - val_accuracy: 0.9294\n",
      "Epoch 8/10\n",
      "76/76 [==============================] - 1s 15ms/step - loss: 0.1732 - accuracy: 0.9125 - val_loss: 0.1463 - val_accuracy: 0.9071\n",
      "Epoch 9/10\n",
      "76/76 [==============================] - 1s 15ms/step - loss: 0.1770 - accuracy: 0.9121 - val_loss: 0.1137 - val_accuracy: 0.9294\n",
      "Epoch 10/10\n",
      "76/76 [==============================] - 1s 15ms/step - loss: 0.1815 - accuracy: 0.9109 - val_loss: 0.1312 - val_accuracy: 0.8996\n"
     ]
    }
   ],
   "source": [
    "h = model.fit(X_train, y_train_cat, epochs=10, verbose=1, validation_split=0.1) #validation_data=(X_test, y_test_cat)"
   ]
  },
  {
   "cell_type": "code",
   "execution_count": 101,
   "id": "19edb61c",
   "metadata": {
    "scrolled": false
   },
   "outputs": [
    {
     "name": "stdout",
     "output_type": "stream",
     "text": [
      "21/21 [==============================] - 0s 4ms/step - loss: 0.1879 - accuracy: 0.8927\n",
      "Train:  0.8926974534988403\n"
     ]
    }
   ],
   "source": [
    "results = model.evaluate(X_test, y_test_cat)\n",
    "print('Train: ', results[1])"
   ]
  },
  {
   "cell_type": "code",
   "execution_count": 102,
   "id": "f24380b2",
   "metadata": {},
   "outputs": [
    {
     "name": "stdout",
     "output_type": "stream",
     "text": [
      "Model: \"sequential_7\"\n",
      "_________________________________________________________________\n",
      " Layer (type)                Output Shape              Param #   \n",
      "=================================================================\n",
      " dense_26 (Dense)            (None, 784)               53312     \n",
      "                                                                 \n",
      " dense_27 (Dense)            (None, 512)               401920    \n",
      "                                                                 \n",
      " dense_28 (Dense)            (None, 256)               131328    \n",
      "                                                                 \n",
      " dense_29 (Dense)            (None, 128)               32896     \n",
      "                                                                 \n",
      " dense_30 (Dense)            (None, 32)                4128      \n",
      "                                                                 \n",
      " dense_31 (Dense)            (None, 10)                330       \n",
      "                                                                 \n",
      "=================================================================\n",
      "Total params: 623,914\n",
      "Trainable params: 623,914\n",
      "Non-trainable params: 0\n",
      "_________________________________________________________________\n"
     ]
    }
   ],
   "source": [
    "model.summary()"
   ]
  },
  {
   "cell_type": "code",
   "execution_count": 103,
   "id": "18b147ce",
   "metadata": {},
   "outputs": [
    {
     "data": {
      "text/plain": [
       "Text(0.5, 0, 'Epochs')"
      ]
     },
     "execution_count": 103,
     "metadata": {},
     "output_type": "execute_result"
    },
    {
     "data": {
      "image/png": "[encoded data removed]",
      "text/plain": [
       "<Figure size 720x360 with 1 Axes>"
      ]
     },
     "metadata": {
      "needs_background": "light"
     },
     "output_type": "display_data"
    }
   ],
   "source": [
    "plt.figure(figsize=(10,5))\n",
    "plt.plot(h.history['accuracy'])\n",
    "plt.plot(h.history['val_accuracy'])\n",
    "plt.legend(['Training', 'Validation'])\n",
    "plt.xlabel('Epochs')"
   ]
  },
  {
   "cell_type": "markdown",
   "id": "4f244a51",
   "metadata": {},
   "source": [
    "<h4>Rede Neural com dataset Assinatura</h4>"
   ]
  },
  {
   "cell_type": "code",
   "execution_count": 104,
   "id": "b06abc82",
   "metadata": {},
   "outputs": [],
   "source": [
    "X = signatures\n",
    "Y = dados[:,-1]\n",
    "X_train, X_test, y_train, y_test = train_test_split(X, Y, test_size=0.25, random_state=84)"
   ]
  },
  {
   "cell_type": "code",
   "execution_count": 105,
   "id": "ed8384ea",
   "metadata": {},
   "outputs": [],
   "source": [
    "y_train_cat = to_categorical(y_train)\n",
    "y_test_cat = to_categorical(y_test)"
   ]
  },
  {
   "cell_type": "code",
   "execution_count": 106,
   "id": "9194c08d",
   "metadata": {},
   "outputs": [],
   "source": [
    "model = Sequential()\n",
    "model.add(Dense(512, input_dim=59, activation='relu'))\n",
    "model.add(Dropout(0.2))\n",
    "model.add(Dense(512, activation='relu'))\n",
    "model.add(Dropout(0.2))\n",
    "model.add(Dense(10, activation='softmax'))\n",
    "model.compile(optimizer='adam', loss='categorical_crossentropy', metrics=['accuracy']) #Otimização do modelo"
   ]
  },
  {
   "cell_type": "code",
   "execution_count": 107,
   "id": "0558049a",
   "metadata": {},
   "outputs": [
    {
     "name": "stdout",
     "output_type": "stream",
     "text": [
      "Epoch 1/10\n",
      "71/71 [==============================] - 1s 11ms/step - loss: 1.4122 - accuracy: 0.6622 - val_loss: 0.3029 - val_accuracy: 0.8651\n",
      "Epoch 2/10\n",
      "71/71 [==============================] - 1s 8ms/step - loss: 0.2819 - accuracy: 0.8935 - val_loss: 0.1525 - val_accuracy: 0.9603\n",
      "Epoch 3/10\n",
      "71/71 [==============================] - 1s 8ms/step - loss: 0.2446 - accuracy: 0.9045 - val_loss: 0.2346 - val_accuracy: 0.9008\n",
      "Epoch 4/10\n",
      "71/71 [==============================] - 1s 8ms/step - loss: 0.2138 - accuracy: 0.9111 - val_loss: 0.1576 - val_accuracy: 0.9524\n",
      "Epoch 5/10\n",
      "71/71 [==============================] - 1s 9ms/step - loss: 0.1817 - accuracy: 0.9209 - val_loss: 0.0915 - val_accuracy: 0.9802\n",
      "Epoch 6/10\n",
      "71/71 [==============================] - 1s 8ms/step - loss: 0.1558 - accuracy: 0.9346 - val_loss: 0.2427 - val_accuracy: 0.8929\n",
      "Epoch 7/10\n",
      "71/71 [==============================] - 1s 8ms/step - loss: 0.1755 - accuracy: 0.9244 - val_loss: 0.0933 - val_accuracy: 0.9683\n",
      "Epoch 8/10\n",
      "71/71 [==============================] - 1s 8ms/step - loss: 0.1357 - accuracy: 0.9403 - val_loss: 0.0769 - val_accuracy: 0.9802\n",
      "Epoch 9/10\n",
      "71/71 [==============================] - 1s 8ms/step - loss: 0.1273 - accuracy: 0.9478 - val_loss: 0.2028 - val_accuracy: 0.9127\n",
      "Epoch 10/10\n",
      "71/71 [==============================] - 1s 8ms/step - loss: 0.1213 - accuracy: 0.9531 - val_loss: 0.1148 - val_accuracy: 0.9722\n"
     ]
    }
   ],
   "source": [
    "h = model.fit(X_train, y_train_cat, epochs=10, verbose=1, validation_split=0.1) #validation_data=(X_test, y_test_cat)"
   ]
  },
  {
   "cell_type": "code",
   "execution_count": 108,
   "id": "c66e5ea0",
   "metadata": {},
   "outputs": [
    {
     "name": "stdout",
     "output_type": "stream",
     "text": [
      "27/27 [==============================] - 0s 3ms/step - loss: 0.1415 - accuracy: 0.9690\n",
      "Train:  0.9689737558364868\n"
     ]
    }
   ],
   "source": [
    "results = model.evaluate(X_test, y_test_cat)\n",
    "print('Train: ', results[1])"
   ]
  },
  {
   "cell_type": "code",
   "execution_count": 109,
   "id": "513f9f7c",
   "metadata": {},
   "outputs": [
    {
     "data": {
      "text/plain": [
       "<matplotlib.legend.Legend at 0x21824ae7cf8>"
      ]
     },
     "execution_count": 109,
     "metadata": {},
     "output_type": "execute_result"
    },
    {
     "data": {
      "image/png": "[encoded data removed]",
      "text/plain": [
       "<Figure size 864x576 with 2 Axes>"
      ]
     },
     "metadata": {
      "needs_background": "light"
     },
     "output_type": "display_data"
    }
   ],
   "source": [
    "# plotting the metrics\n",
    "plt.figure(figsize=(12,8))\n",
    "plt.subplot(2,1,1)\n",
    "plt.plot(h.history['accuracy'])\n",
    "plt.plot(h.history['val_accuracy'])\n",
    "plt.title('model accuracy')\n",
    "plt.ylabel('accuracy')\n",
    "plt.xlabel('epoch')\n",
    "plt.legend(['train', 'test'], loc='lower right')\n",
    "\n",
    "plt.subplot(2,1,2)\n",
    "plt.plot(h.history['loss'])\n",
    "plt.plot(h.history['val_loss'])\n",
    "plt.title('model loss')\n",
    "plt.ylabel('loss')\n",
    "plt.xlabel('epoch')\n",
    "plt.legend(['train', 'test'], loc='upper right')"
   ]
  },
  {
   "cell_type": "markdown",
   "id": "33355213",
   "metadata": {},
   "source": [
    "<h4>Rede Neural com os valores originais</h4>"
   ]
  },
  {
   "cell_type": "code",
   "execution_count": 110,
   "id": "29602184",
   "metadata": {},
   "outputs": [],
   "source": [
    "X = dados[:, :-1]\n",
    "Y = dados[:,-1]\n",
    "X_train, X_test, y_train, y_test = train_test_split(X, Y, test_size=0.20, random_state=84)\n",
    "\n",
    "y_train_cat = to_categorical(y_train)\n",
    "y_test_cat = to_categorical(y_test)"
   ]
  },
  {
   "cell_type": "code",
   "execution_count": 111,
   "id": "ca246c09",
   "metadata": {},
   "outputs": [],
   "source": [
    "model = Sequential()\n",
    "model.add(Dense(784, input_dim=1225, activation='relu'))\n",
    "model.add(Dropout(0.2))\n",
    "model.add(Dense(512, activation='relu'))\n",
    "model.add(Dropout(0.2))\n",
    "model.add(Dense(256, activation='relu'))\n",
    "model.add(Dropout(0.2))\n",
    "model.add(Dense(128, activation='relu'))\n",
    "model.add(Dropout(0.2))\n",
    "model.add(Dense(10, activation='softmax'))\n",
    "model.compile(optimizer='adam', loss='categorical_crossentropy', metrics=['accuracy'])"
   ]
  },
  {
   "cell_type": "code",
   "execution_count": 112,
   "id": "bf8d5dde",
   "metadata": {},
   "outputs": [
    {
     "name": "stdout",
     "output_type": "stream",
     "text": [
      "Epoch 1/10\n",
      "76/76 [==============================] - 2s 22ms/step - loss: 18.3372 - accuracy: 0.7276 - val_loss: 0.0909 - val_accuracy: 0.9926\n",
      "Epoch 2/10\n",
      "76/76 [==============================] - 1s 19ms/step - loss: 1.0270 - accuracy: 0.9511 - val_loss: 2.4454e-04 - val_accuracy: 1.0000\n",
      "Epoch 3/10\n",
      "76/76 [==============================] - 1s 19ms/step - loss: 0.6545 - accuracy: 0.9660 - val_loss: 0.0272 - val_accuracy: 0.9963\n",
      "Epoch 4/10\n",
      "76/76 [==============================] - 1s 19ms/step - loss: 0.4294 - accuracy: 0.9789 - val_loss: 0.0000e+00 - val_accuracy: 1.0000\n",
      "Epoch 5/10\n",
      "76/76 [==============================] - 1s 19ms/step - loss: 0.4034 - accuracy: 0.9805 - val_loss: 1.9587e-07 - val_accuracy: 1.0000\n",
      "Epoch 6/10\n",
      "76/76 [==============================] - 1s 19ms/step - loss: 0.2786 - accuracy: 0.9813 - val_loss: 0.0000e+00 - val_accuracy: 1.0000\n",
      "Epoch 7/10\n",
      "76/76 [==============================] - 1s 19ms/step - loss: 0.3947 - accuracy: 0.9859 - val_loss: 0.0000e+00 - val_accuracy: 1.0000\n",
      "Epoch 8/10\n",
      "76/76 [==============================] - 1s 20ms/step - loss: 0.5285 - accuracy: 0.9805 - val_loss: 0.0892 - val_accuracy: 0.9926\n",
      "Epoch 9/10\n",
      "76/76 [==============================] - 1s 19ms/step - loss: 1.0332 - accuracy: 0.9619 - val_loss: 0.0853 - val_accuracy: 0.9963\n",
      "Epoch 10/10\n",
      "76/76 [==============================] - 1s 20ms/step - loss: 0.4519 - accuracy: 0.9776 - val_loss: 4.1920e-07 - val_accuracy: 1.0000\n"
     ]
    }
   ],
   "source": [
    "h = model.fit(X_train, y_train_cat, epochs=10, verbose=1, validation_split=0.1) #validation_data=(X_test, y_test_cat)"
   ]
  },
  {
   "cell_type": "code",
   "execution_count": 113,
   "id": "80ed7f60",
   "metadata": {},
   "outputs": [
    {
     "name": "stdout",
     "output_type": "stream",
     "text": [
      "21/21 [==============================] - 0s 7ms/step - loss: 1.4655 - accuracy: 0.9985\n",
      "Train:  0.9985097050666809\n"
     ]
    }
   ],
   "source": [
    "results = model.evaluate(X_test, y_test_cat)\n",
    "print('Train: ', results[1])"
   ]
  },
  {
   "cell_type": "code",
   "execution_count": 114,
   "id": "6e49a635",
   "metadata": {},
   "outputs": [
    {
     "data": {
      "text/plain": [
       "Text(0.5, 0, 'Epochs')"
      ]
     },
     "execution_count": 114,
     "metadata": {},
     "output_type": "execute_result"
    },
    {
     "data": {
      "image/png": "[encoded data removed]",
      "text/plain": [
       "<Figure size 720x360 with 1 Axes>"
      ]
     },
     "metadata": {
      "needs_background": "light"
     },
     "output_type": "display_data"
    }
   ],
   "source": [
    "plt.figure(figsize=(10,5))\n",
    "plt.plot(h.history['accuracy'])\n",
    "plt.plot(h.history['val_accuracy'])\n",
    "plt.legend(['Training', 'Validation'])\n",
    "plt.xlabel('Epochs')"
   ]
  },
  {
   "cell_type": "markdown",
   "id": "51b14de5",
   "metadata": {},
   "source": [
    "<h2>Rede Neural Convolucional (CNN)</h2>\n",
    "<p>CNN é um tipo de Rede Neural utilizado para classificar imagens</p>"
   ]
  },
  {
   "cell_type": "code",
   "execution_count": 122,
   "id": "2208f34e",
   "metadata": {},
   "outputs": [],
   "source": [
    "# importar os pacotes necessários\n",
    "from keras.models import Sequential\n",
    "from keras.layers import Dense, Dropout, Flatten\n",
    "from keras.layers import Conv2D, MaxPooling2D\n",
    "from tensorflow.keras.optimizers import Adam\n",
    "from keras.preprocessing.image import ImageDataGenerator\n",
    "from keras.callbacks import ReduceLROnPlateau\n",
    "from sklearn.metrics import classification_report"
   ]
  },
  {
   "cell_type": "code",
   "execution_count": 123,
   "id": "dbe070fc",
   "metadata": {},
   "outputs": [],
   "source": [
    "X = dados[:, :-1]\n",
    "Y = dados[:,-1]\n",
    "X_train, X_test, y_train, y_test = train_test_split(X, Y, test_size=0.20, random_state=84)\n"
   ]
  },
  {
   "cell_type": "code",
   "execution_count": 124,
   "id": "3affd4db",
   "metadata": {},
   "outputs": [],
   "source": [
    "X_train=X_train.reshape(-1,35,35,1) #conjunto de treinamento\n",
    "X_test=X_test.reshape(-1,35,35,1) #conjunto de teste\n",
    "\n",
    "from keras.utils.np_utils import to_categorical\n",
    "y_train_cat = to_categorical(y_train)\n",
    "y_test_cat = to_categorical(y_test)"
   ]
  },
  {
   "cell_type": "code",
   "execution_count": 125,
   "id": "5bdb5e6c",
   "metadata": {},
   "outputs": [],
   "source": [
    "model = Sequential()\n",
    "model.add(Conv2D(16, (5,5), activation='relu', padding='same', input_shape=(35, 35,1)))\n",
    "model.add(MaxPooling2D(pool_size=(2,2)))\n",
    "model.add(Conv2D(32, (5,5), activation='relu', padding='same'))\n",
    "model.add(MaxPooling2D(pool_size=(2,2)))\n",
    "model.add(Dropout(0.25))\n",
    "model.add(Flatten())\n",
    "model.add(Dense(64, activation='relu'))\n",
    "model.add(Dropout(0.5))\n",
    "model.add(Dense(10, activation='softmax'))\n",
    "\n",
    "optimizer = Adam()\n",
    "model.compile(loss='categorical_crossentropy', optimizer=optimizer, metrics=['accuracy'])"
   ]
  },
  {
   "cell_type": "code",
   "execution_count": 126,
   "id": "f6f59e04",
   "metadata": {},
   "outputs": [
    {
     "name": "stdout",
     "output_type": "stream",
     "text": [
      "Model: \"sequential_11\"\n",
      "_________________________________________________________________\n",
      " Layer (type)                Output Shape              Param #   \n",
      "=================================================================\n",
      " conv2d_8 (Conv2D)           (None, 35, 35, 16)        416       \n",
      "                                                                 \n",
      " max_pooling2d_8 (MaxPooling  (None, 17, 17, 16)       0         \n",
      " 2D)                                                             \n",
      "                                                                 \n",
      " conv2d_9 (Conv2D)           (None, 17, 17, 32)        12832     \n",
      "                                                                 \n",
      " max_pooling2d_9 (MaxPooling  (None, 8, 8, 32)         0         \n",
      " 2D)                                                             \n",
      "                                                                 \n",
      " dropout_20 (Dropout)        (None, 8, 8, 32)          0         \n",
      "                                                                 \n",
      " flatten_4 (Flatten)         (None, 2048)              0         \n",
      "                                                                 \n",
      " dense_42 (Dense)            (None, 64)                131136    \n",
      "                                                                 \n",
      " dropout_21 (Dropout)        (None, 64)                0         \n",
      "                                                                 \n",
      " dense_43 (Dense)            (None, 10)                650       \n",
      "                                                                 \n",
      "=================================================================\n",
      "Total params: 145,034\n",
      "Trainable params: 145,034\n",
      "Non-trainable params: 0\n",
      "_________________________________________________________________\n",
      "None\n"
     ]
    }
   ],
   "source": [
    "print(model.summary())"
   ]
  },
  {
   "cell_type": "code",
   "execution_count": 127,
   "id": "9bd7358c",
   "metadata": {},
   "outputs": [
    {
     "name": "stdout",
     "output_type": "stream",
     "text": [
      "Epoch 1/10\n",
      "67/67 [==============================] - 5s 52ms/step - loss: 4.5429 - accuracy: 0.2761 - val_loss: 1.4311 - val_accuracy: 0.4823 - lr: 0.0010\n",
      "Epoch 2/10\n",
      "67/67 [==============================] - 3s 52ms/step - loss: 1.5626 - accuracy: 0.4272 - val_loss: 1.1868 - val_accuracy: 0.5624 - lr: 0.0010\n",
      "Epoch 3/10\n",
      "67/67 [==============================] - 3s 51ms/step - loss: 1.3527 - accuracy: 0.4958 - val_loss: 0.7899 - val_accuracy: 0.6425 - lr: 0.0010\n",
      "Epoch 4/10\n",
      "67/67 [==============================] - 3s 50ms/step - loss: 1.0898 - accuracy: 0.5868 - val_loss: 0.5407 - val_accuracy: 0.9050 - lr: 0.0010\n",
      "Epoch 5/10\n",
      "67/67 [==============================] - 3s 49ms/step - loss: 0.9170 - accuracy: 0.6437 - val_loss: 0.1964 - val_accuracy: 0.8976 - lr: 0.0010\n",
      "Epoch 6/10\n",
      "67/67 [==============================] - 3s 51ms/step - loss: 0.7413 - accuracy: 0.7201 - val_loss: 0.1620 - val_accuracy: 0.9683 - lr: 0.0010\n",
      "Epoch 7/10\n",
      "67/67 [==============================] - 3s 50ms/step - loss: 0.5228 - accuracy: 0.7985 - val_loss: 0.0390 - val_accuracy: 1.0000 - lr: 0.0010\n",
      "Epoch 8/10\n",
      "67/67 [==============================] - 4s 55ms/step - loss: 0.4076 - accuracy: 0.8349 - val_loss: 0.0104 - val_accuracy: 1.0000 - lr: 0.0010\n",
      "Epoch 9/10\n",
      "67/67 [==============================] - 4s 54ms/step - loss: 0.3398 - accuracy: 0.8629 - val_loss: 0.0012 - val_accuracy: 1.0000 - lr: 0.0010\n",
      "Epoch 10/10\n",
      "67/67 [==============================] - ETA: 0s - loss: 0.3149 - accuracy: 0.8750\n",
      "Epoch 00010: ReduceLROnPlateau reducing learning rate to 0.0005000000237487257.\n",
      "67/67 [==============================] - 3s 52ms/step - loss: 0.3149 - accuracy: 0.8750 - val_loss: 0.0012 - val_accuracy: 1.0000 - lr: 0.0010\n"
     ]
    }
   ],
   "source": [
    "# reduz o parâmetro de learning rate se não houver \n",
    "# melhoras em determinado número de epocas\n",
    "# útil para encontrar o mínimo global.\n",
    "learning_rate_reduction = ReduceLROnPlateau(monitor='val_accuracy', \n",
    "                                            patience=3, \n",
    "                                            verbose=1, \n",
    "                                            factor=0.5, \n",
    "                                            min_lr=0.00001)\n",
    "\n",
    "history = model.fit(X_train,\n",
    "                        y_train_cat,\n",
    "                        batch_size = 32,\n",
    "                        epochs = 10,\n",
    "                        validation_split=0.2,\n",
    "                        validation_data=(X_test, y_test_cat),\n",
    "                        verbose = 1,\n",
    "                        callbacks=[learning_rate_reduction])"
   ]
  },
  {
   "cell_type": "code",
   "execution_count": 128,
   "id": "96893424",
   "metadata": {},
   "outputs": [],
   "source": [
    "history_dict = history.history\n",
    "acc = history_dict['accuracy']\n",
    "val_acc = history_dict['val_accuracy']\n",
    "range_epochs = range(1, len(acc) + 1)"
   ]
  },
  {
   "cell_type": "code",
   "execution_count": 129,
   "id": "3786a709",
   "metadata": {},
   "outputs": [
    {
     "data": {
      "image/png": "[encoded data removed]",
      "text/plain": [
       "<Figure size 640x480 with 1 Axes>"
      ]
     },
     "metadata": {},
     "output_type": "display_data"
    }
   ],
   "source": [
    "plt.style.use('default')\n",
    "accuracy_val = plt.plot(range_epochs, val_acc, label='Validation')\n",
    "accuracy_train = plt.plot(range_epochs, acc, label='Training', color=\"r\")\n",
    "plt.setp(accuracy_val, linewidth=1.0)\n",
    "plt.setp(accuracy_train, linewidth=1.0)\n",
    "plt.xlabel('Epochs') \n",
    "plt.ylabel('accuracy')\n",
    "plt.legend(loc=\"lower right\")\n",
    "plt.show()"
   ]
  },
  {
   "cell_type": "code",
   "execution_count": 130,
   "id": "4b478a7e",
   "metadata": {},
   "outputs": [
    {
     "data": {
      "text/plain": [
       "<keras.callbacks.History at 0x2182518c978>"
      ]
     },
     "execution_count": 130,
     "metadata": {},
     "output_type": "execute_result"
    }
   ],
   "source": [
    "history"
   ]
  },
  {
   "cell_type": "code",
   "execution_count": 131,
   "id": "2162e157",
   "metadata": {
    "scrolled": true
   },
   "outputs": [
    {
     "name": "stdout",
     "output_type": "stream",
     "text": [
      "21/21 [==============================] - 0s 13ms/step - loss: 0.0636 - accuracy: 0.9985\n",
      "Train:  0.9985097050666809\n"
     ]
    }
   ],
   "source": [
    "results = model.evaluate(X_test, y_test_cat)\n",
    "print('Train: ', results[1])"
   ]
  },
  {
   "cell_type": "code",
   "execution_count": 132,
   "id": "0678c023",
   "metadata": {
    "scrolled": true
   },
   "outputs": [
    {
     "name": "stdout",
     "output_type": "stream",
     "text": [
      "[INFO] avaliando a CNN...\n",
      "              precision    recall  f1-score   support\n",
      "\n",
      "           0       1.00      1.00      1.00        72\n",
      "           1       0.99      1.00      0.99        83\n",
      "           2       1.00      1.00      1.00        69\n",
      "           3       1.00      0.99      0.99        81\n",
      "           4       1.00      1.00      1.00        87\n",
      "           5       1.00      1.00      1.00        49\n",
      "           6       1.00      1.00      1.00        79\n",
      "           7       1.00      1.00      1.00        37\n",
      "           8       1.00      1.00      1.00        58\n",
      "           9       1.00      1.00      1.00        56\n",
      "\n",
      "    accuracy                           1.00       671\n",
      "   macro avg       1.00      1.00      1.00       671\n",
      "weighted avg       1.00      1.00      1.00       671\n",
      "\n"
     ]
    }
   ],
   "source": [
    "print(\"[INFO] avaliando a CNN...\")\n",
    "predictions = model.predict(X_test, batch_size=64)\n",
    "print(classification_report(y_test_cat.argmax(axis=1), predictions.argmax(axis=1),\n",
    "                            target_names=[str(label) for label in range(10)]))"
   ]
  },
  {
   "cell_type": "code",
   "execution_count": 136,
   "id": "cae45a00",
   "metadata": {},
   "outputs": [
    {
     "data": {
      "image/png": "[encoded data removed]",
      "text/plain": [
       "<Figure size 1000x1000 with 25 Axes>"
      ]
     },
     "metadata": {},
     "output_type": "display_data"
    }
   ],
   "source": [
    "plt.figure(figsize=(10,10))\n",
    "for i in range(25):\n",
    "    plt.subplot(5,5,i+1)\n",
    "    plt.imshow(X_train[i], cmap='binary')\n",
    "    plt.xlabel(y_train[i])"
   ]
  },
  {
   "cell_type": "code",
   "execution_count": 134,
   "id": "516aed8d",
   "metadata": {},
   "outputs": [
    {
     "data": {
      "text/plain": [
       "array([9.96566772e-01, 6.69196754e-10, 1.14934544e-07, 1.23899066e-04,\n",
       "       1.07689004e-06, 7.79964893e-08, 1.87643934e-06, 3.99600578e-12,\n",
       "       2.81054340e-03, 4.95573040e-04], dtype=float32)"
      ]
     },
     "execution_count": 134,
     "metadata": {},
     "output_type": "execute_result"
    }
   ],
   "source": [
    "predictions[1]"
   ]
  },
  {
   "cell_type": "code",
   "execution_count": 195,
   "id": "7ca3b369",
   "metadata": {},
   "outputs": [],
   "source": [
    "def plot_image(i, predictions_array, true_label, img):\n",
    "    predictions_array, true_label, img = predictions_array[i], true_label[i], img[i]\n",
    "    plt.grid(False)\n",
    "    plt.xticks([])\n",
    "    plt.yticks([])\n",
    "    \n",
    "    plt.imshow(img, cmap=plt.cm.binary)\n",
    "    \n",
    "    predicted_label = np.argmax(predictions_array)\n",
    "    if predicted_label == true_label:\n",
    "        color = 'blue'\n",
    "    else:\n",
    "        color = 'red'\n",
    "    \n",
    "    plt.xlabel('{} {:2.2f}% ({})'.format(predicted_label,\n",
    "                                        100*np.max(predictions_array),\n",
    "                                        true_label),\n",
    "                                        color=color)\n",
    "    \n",
    "def plot_value_array(i, predictions_array, true_label):\n",
    "    predictions_array, true_label = predictions_array[i], true_label[i]\n",
    "    plt.grid(False)\n",
    "    plt.yticks([])\n",
    "    thisplot = plt.bar(range(10), predictions_array, color = '#777777')\n",
    "    plt.ylim([0, 1])\n",
    "    predicate_label = np.argmax(predictions_array)\n",
    "    \n",
    "    thisplot[predicate_label].set_color('red')\n",
    "    thisplot[true_label].set_color('blue')"
   ]
  },
  {
   "cell_type": "code",
   "execution_count": 162,
   "id": "2eb24c6f",
   "metadata": {
    "scrolled": true
   },
   "outputs": [
    {
     "name": "stdout",
     "output_type": "stream",
     "text": [
      "Scores para o objeto #0 no teste\n",
      "[6.7455222e-20 1.7303148e-14 9.9999928e-01 1.4133548e-14 2.6949230e-09\n",
      " 1.0008584e-29 8.0760008e-23 6.7685460e-07 3.0300736e-18 6.9653606e-27]\n",
      "Classe predicts = 2\n"
     ]
    }
   ],
   "source": [
    "predictions = model.predict(X_test)\n",
    "print('Scores para o objeto #0 no teste')\n",
    "print(predictions[1])\n",
    "print('Classe predicts = ' + str(np.argmax(predictions[1])))"
   ]
  },
  {
   "cell_type": "code",
   "execution_count": 196,
   "id": "bf989487",
   "metadata": {},
   "outputs": [
    {
     "data": {
      "image/png": "[encoded data removed]",
      "text/plain": [
       "<Figure size 1000x1000 with 25 Axes>"
      ]
     },
     "metadata": {},
     "output_type": "display_data"
    }
   ],
   "source": [
    "plt.figure(figsize=(10,10))\n",
    "\n",
    "for i in range(25):\n",
    "    plt.subplot(5,5,i+1)\n",
    "    plot_image(i, predictions, y_test, X_test[:,:,:,0])\n"
   ]
  },
  {
   "cell_type": "code",
   "execution_count": null,
   "id": "c3a0f3d7",
   "metadata": {
    "scrolled": true
   },
   "outputs": [],
   "source": []
  },
  {
   "cell_type": "code",
   "execution_count": null,
   "id": "27d0e112",
   "metadata": {},
   "outputs": [],
   "source": []
  },
  {
   "cell_type": "markdown",
   "id": "f0a2ea5b",
   "metadata": {},
   "source": [
    "<h2> 10 iterações no k-fold</h2>"
   ]
  },
  {
   "cell_type": "code",
   "execution_count": 61,
   "id": "352983bb",
   "metadata": {},
   "outputs": [
    {
     "name": "stdout",
     "output_type": "stream",
     "text": [
      "------------------------------------------------------------------------\n",
      "Training for fold 1 ...\n",
      "Epoch 1/10\n",
      "55/55 [==============================] - 8s 32ms/step - loss: 0.8350 - accuracy: 0.7351 - val_loss: 0.2456 - val_accuracy: 0.8901\n",
      "Epoch 2/10\n",
      "55/55 [==============================] - 1s 11ms/step - loss: 0.2496 - accuracy: 0.8914 - val_loss: 0.1739 - val_accuracy: 0.9060\n",
      "Epoch 3/10\n",
      "55/55 [==============================] - 1s 11ms/step - loss: 0.1768 - accuracy: 0.9147 - val_loss: 0.1434 - val_accuracy: 0.9113\n",
      "Epoch 4/10\n",
      "55/55 [==============================] - 1s 13ms/step - loss: 0.1708 - accuracy: 0.9187 - val_loss: 0.1435 - val_accuracy: 0.9060\n",
      "Epoch 5/10\n",
      "55/55 [==============================] - 1s 13ms/step - loss: 0.1601 - accuracy: 0.9198 - val_loss: 0.1509 - val_accuracy: 0.9099\n",
      "Epoch 6/10\n",
      "55/55 [==============================] - 1s 14ms/step - loss: 0.1363 - accuracy: 0.9272 - val_loss: 0.1662 - val_accuracy: 0.9099\n",
      "Epoch 7/10\n",
      "55/55 [==============================] - 1s 16ms/step - loss: 0.1466 - accuracy: 0.9244 - val_loss: 0.1586 - val_accuracy: 0.9099\n",
      "Epoch 8/10\n",
      "55/55 [==============================] - 1s 16ms/step - loss: 0.1468 - accuracy: 0.9272 - val_loss: 0.1266 - val_accuracy: 0.9351\n",
      "Epoch 9/10\n",
      "55/55 [==============================] - 1s 19ms/step - loss: 0.1418 - accuracy: 0.9233 - val_loss: 0.1186 - val_accuracy: 0.9510\n",
      "Epoch 10/10\n",
      "55/55 [==============================] - 1s 16ms/step - loss: 0.1347 - accuracy: 0.9289 - val_loss: 0.1846 - val_accuracy: 0.9126\n",
      "Score for fold 1: loss of 0.23999720811843872; accuracy of 88.90214562416077%\n",
      "------------------------------------------------------------------------\n",
      "Training for fold 2 ...\n",
      "Epoch 1/10\n",
      "55/55 [==============================] - 2s 18ms/step - loss: 0.7382 - accuracy: 0.7533 - val_loss: 0.2398 - val_accuracy: 0.8795\n",
      "Epoch 2/10\n",
      "55/55 [==============================] - 1s 14ms/step - loss: 0.2780 - accuracy: 0.8863 - val_loss: 0.2116 - val_accuracy: 0.8980\n",
      "Epoch 3/10\n",
      "55/55 [==============================] - 1s 9ms/step - loss: 0.1850 - accuracy: 0.9125 - val_loss: 0.1489 - val_accuracy: 0.9152\n",
      "Epoch 4/10\n",
      "55/55 [==============================] - 0s 9ms/step - loss: 0.1560 - accuracy: 0.9204 - val_loss: 0.1500 - val_accuracy: 0.9205\n",
      "Epoch 5/10\n",
      "55/55 [==============================] - 1s 10ms/step - loss: 0.1476 - accuracy: 0.9267 - val_loss: 0.1254 - val_accuracy: 0.9444\n",
      "Epoch 6/10\n",
      "55/55 [==============================] - 0s 9ms/step - loss: 0.1441 - accuracy: 0.9272 - val_loss: 0.1349 - val_accuracy: 0.9126\n",
      "Epoch 7/10\n",
      "55/55 [==============================] - 0s 9ms/step - loss: 0.1370 - accuracy: 0.9363 - val_loss: 0.1451 - val_accuracy: 0.9232\n",
      "Epoch 8/10\n",
      "55/55 [==============================] - 0s 8ms/step - loss: 0.1415 - accuracy: 0.9204 - val_loss: 0.1821 - val_accuracy: 0.9099\n",
      "Epoch 9/10\n",
      "55/55 [==============================] - 1s 9ms/step - loss: 0.1379 - accuracy: 0.9215 - val_loss: 0.1160 - val_accuracy: 0.9430\n",
      "Epoch 10/10\n",
      "55/55 [==============================] - 0s 8ms/step - loss: 0.1340 - accuracy: 0.9318 - val_loss: 0.1378 - val_accuracy: 0.9152\n",
      "Score for fold 2: loss of 0.17858287692070007; accuracy of 88.90214562416077%\n",
      "------------------------------------------------------------------------\n",
      "Training for fold 3 ...\n",
      "Epoch 1/10\n",
      "55/55 [==============================] - 1s 14ms/step - loss: 0.8192 - accuracy: 0.7385 - val_loss: 0.2283 - val_accuracy: 0.8808\n",
      "Epoch 2/10\n",
      "55/55 [==============================] - 1s 9ms/step - loss: 0.2514 - accuracy: 0.8988 - val_loss: 0.1657 - val_accuracy: 0.9033\n",
      "Epoch 3/10\n",
      "55/55 [==============================] - 0s 8ms/step - loss: 0.1807 - accuracy: 0.9107 - val_loss: 0.1456 - val_accuracy: 0.9139\n",
      "Epoch 4/10\n",
      "55/55 [==============================] - 0s 9ms/step - loss: 0.1620 - accuracy: 0.9176 - val_loss: 0.1926 - val_accuracy: 0.9073\n",
      "Epoch 5/10\n",
      "55/55 [==============================] - 0s 9ms/step - loss: 0.1639 - accuracy: 0.9181 - val_loss: 0.1324 - val_accuracy: 0.9139\n",
      "Epoch 6/10\n",
      "55/55 [==============================] - 0s 8ms/step - loss: 0.1415 - accuracy: 0.9261 - val_loss: 0.1357 - val_accuracy: 0.9232\n",
      "Epoch 7/10\n",
      "55/55 [==============================] - 0s 8ms/step - loss: 0.1302 - accuracy: 0.9341 - val_loss: 0.1417 - val_accuracy: 0.9060\n",
      "Epoch 8/10\n",
      "55/55 [==============================] - 0s 8ms/step - loss: 0.1627 - accuracy: 0.9210 - val_loss: 0.1938 - val_accuracy: 0.9126\n",
      "Epoch 9/10\n",
      "55/55 [==============================] - 1s 11ms/step - loss: 0.1396 - accuracy: 0.9272 - val_loss: 0.1077 - val_accuracy: 0.9550\n",
      "Epoch 10/10\n",
      "55/55 [==============================] - 1s 9ms/step - loss: 0.1188 - accuracy: 0.9449 - val_loss: 0.1229 - val_accuracy: 0.9285\n",
      "Score for fold 3: loss of 0.1517251431941986; accuracy of 91.5274441242218%\n",
      "------------------------------------------------------------------------\n",
      "Training for fold 4 ...\n",
      "Epoch 1/10\n",
      "55/55 [==============================] - 1s 13ms/step - loss: 0.7905 - accuracy: 0.7402 - val_loss: 0.2150 - val_accuracy: 0.9139\n",
      "Epoch 2/10\n",
      "55/55 [==============================] - 0s 9ms/step - loss: 0.2325 - accuracy: 0.9034 - val_loss: 0.1820 - val_accuracy: 0.9073\n",
      "Epoch 3/10\n",
      "55/55 [==============================] - 0s 9ms/step - loss: 0.1938 - accuracy: 0.9102 - val_loss: 0.1325 - val_accuracy: 0.9377\n",
      "Epoch 4/10\n",
      "55/55 [==============================] - 1s 9ms/step - loss: 0.1758 - accuracy: 0.9107 - val_loss: 0.1529 - val_accuracy: 0.9073\n",
      "Epoch 5/10\n",
      "55/55 [==============================] - 0s 8ms/step - loss: 0.1742 - accuracy: 0.9090 - val_loss: 0.1359 - val_accuracy: 0.9377\n",
      "Epoch 6/10\n",
      "55/55 [==============================] - 0s 8ms/step - loss: 0.1451 - accuracy: 0.9210 - val_loss: 0.1216 - val_accuracy: 0.9351\n",
      "Epoch 7/10\n",
      "55/55 [==============================] - 0s 8ms/step - loss: 0.1321 - accuracy: 0.9306 - val_loss: 0.1060 - val_accuracy: 0.9550\n",
      "Epoch 8/10\n",
      "55/55 [==============================] - 0s 8ms/step - loss: 0.1393 - accuracy: 0.9335 - val_loss: 0.1812 - val_accuracy: 0.9126\n",
      "Epoch 9/10\n",
      "55/55 [==============================] - 0s 9ms/step - loss: 0.1391 - accuracy: 0.9295 - val_loss: 0.1333 - val_accuracy: 0.9139\n",
      "Epoch 10/10\n",
      "55/55 [==============================] - 0s 8ms/step - loss: 0.1364 - accuracy: 0.9352 - val_loss: 0.1190 - val_accuracy: 0.9258\n",
      "Score for fold 4: loss of 0.1407562792301178; accuracy of 92.2434389591217%\n",
      "------------------------------------------------------------------------\n",
      "Training for fold 5 ...\n",
      "Epoch 1/10\n",
      "55/55 [==============================] - 1s 13ms/step - loss: 0.7378 - accuracy: 0.7544 - val_loss: 0.2558 - val_accuracy: 0.8742\n",
      "Epoch 2/10\n",
      "55/55 [==============================] - 0s 8ms/step - loss: 0.2408 - accuracy: 0.9079 - val_loss: 0.1886 - val_accuracy: 0.8940\n",
      "Epoch 3/10\n",
      "55/55 [==============================] - 0s 8ms/step - loss: 0.1870 - accuracy: 0.9079 - val_loss: 0.1606 - val_accuracy: 0.9113\n",
      "Epoch 4/10\n",
      "55/55 [==============================] - 0s 8ms/step - loss: 0.1901 - accuracy: 0.9153 - val_loss: 0.1291 - val_accuracy: 0.9232\n",
      "Epoch 5/10\n",
      "55/55 [==============================] - 0s 8ms/step - loss: 0.1518 - accuracy: 0.9250 - val_loss: 0.1978 - val_accuracy: 0.9126\n",
      "Epoch 6/10\n",
      "55/55 [==============================] - 0s 9ms/step - loss: 0.1444 - accuracy: 0.9255 - val_loss: 0.1304 - val_accuracy: 0.9179\n",
      "Epoch 7/10\n",
      "55/55 [==============================] - 0s 8ms/step - loss: 0.1357 - accuracy: 0.9329 - val_loss: 0.1239 - val_accuracy: 0.9258\n",
      "Epoch 8/10\n",
      "55/55 [==============================] - 0s 8ms/step - loss: 0.1319 - accuracy: 0.9369 - val_loss: 0.1211 - val_accuracy: 0.9272\n",
      "Epoch 9/10\n",
      "55/55 [==============================] - 0s 8ms/step - loss: 0.1353 - accuracy: 0.9397 - val_loss: 0.1715 - val_accuracy: 0.9086\n",
      "Epoch 10/10\n",
      "55/55 [==============================] - 0s 8ms/step - loss: 0.1344 - accuracy: 0.9278 - val_loss: 0.1193 - val_accuracy: 0.9444\n",
      "Score for fold 5: loss of 0.15040455758571625; accuracy of 92.95942783355713%\n",
      "------------------------------------------------------------------------\n",
      "Training for fold 6 ...\n",
      "Epoch 1/10\n",
      "55/55 [==============================] - 1s 11ms/step - loss: 0.7937 - accuracy: 0.7447 - val_loss: 0.2190 - val_accuracy: 0.8980\n",
      "Epoch 2/10\n",
      "55/55 [==============================] - 0s 9ms/step - loss: 0.2494 - accuracy: 0.8937 - val_loss: 0.1870 - val_accuracy: 0.8993\n",
      "Epoch 3/10\n",
      "55/55 [==============================] - 0s 8ms/step - loss: 0.1896 - accuracy: 0.9125 - val_loss: 0.2318 - val_accuracy: 0.9033\n",
      "Epoch 4/10\n",
      "55/55 [==============================] - 0s 8ms/step - loss: 0.1617 - accuracy: 0.9215 - val_loss: 0.1303 - val_accuracy: 0.9325\n",
      "Epoch 5/10\n",
      "55/55 [==============================] - 0s 8ms/step - loss: 0.1504 - accuracy: 0.9227 - val_loss: 0.1191 - val_accuracy: 0.9430\n",
      "Epoch 6/10\n",
      "55/55 [==============================] - 0s 8ms/step - loss: 0.1483 - accuracy: 0.9204 - val_loss: 0.1641 - val_accuracy: 0.9060\n",
      "Epoch 7/10\n",
      "55/55 [==============================] - 0s 8ms/step - loss: 0.1501 - accuracy: 0.9267 - val_loss: 0.1802 - val_accuracy: 0.9113\n",
      "Epoch 8/10\n",
      "55/55 [==============================] - 0s 8ms/step - loss: 0.1424 - accuracy: 0.9227 - val_loss: 0.1168 - val_accuracy: 0.9497\n",
      "Epoch 9/10\n",
      "55/55 [==============================] - 0s 8ms/step - loss: 0.1374 - accuracy: 0.9306 - val_loss: 0.1209 - val_accuracy: 0.9510\n",
      "Epoch 10/10\n",
      "55/55 [==============================] - 0s 9ms/step - loss: 0.1302 - accuracy: 0.9386 - val_loss: 0.1187 - val_accuracy: 0.9510\n",
      "Score for fold 6: loss of 0.1347854882478714; accuracy of 94.39140558242798%\n",
      "------------------------------------------------------------------------\n",
      "Training for fold 7 ...\n",
      "Epoch 1/10\n",
      "55/55 [==============================] - 1s 13ms/step - loss: 0.7863 - accuracy: 0.7464 - val_loss: 0.2527 - val_accuracy: 0.8967\n",
      "Epoch 2/10\n",
      "55/55 [==============================] - 1s 9ms/step - loss: 0.2510 - accuracy: 0.8891 - val_loss: 0.1636 - val_accuracy: 0.9232\n",
      "Epoch 3/10\n",
      "55/55 [==============================] - 0s 8ms/step - loss: 0.1869 - accuracy: 0.9113 - val_loss: 0.1369 - val_accuracy: 0.9325\n",
      "Epoch 4/10\n",
      "55/55 [==============================] - 0s 9ms/step - loss: 0.1635 - accuracy: 0.9301 - val_loss: 0.1479 - val_accuracy: 0.9338\n",
      "Epoch 5/10\n",
      "55/55 [==============================] - 1s 10ms/step - loss: 0.1620 - accuracy: 0.9238 - val_loss: 0.1767 - val_accuracy: 0.9060\n",
      "Epoch 6/10\n",
      "55/55 [==============================] - 1s 11ms/step - loss: 0.1470 - accuracy: 0.9204 - val_loss: 0.1313 - val_accuracy: 0.9139\n",
      "Epoch 7/10\n",
      "55/55 [==============================] - 0s 8ms/step - loss: 0.1332 - accuracy: 0.9358 - val_loss: 0.1168 - val_accuracy: 0.9536\n",
      "Epoch 8/10\n",
      "55/55 [==============================] - 1s 11ms/step - loss: 0.1355 - accuracy: 0.9363 - val_loss: 0.1201 - val_accuracy: 0.9404\n",
      "Epoch 9/10\n",
      "55/55 [==============================] - 1s 9ms/step - loss: 0.1416 - accuracy: 0.9318 - val_loss: 0.1878 - val_accuracy: 0.9126\n",
      "Epoch 10/10\n",
      "55/55 [==============================] - 0s 8ms/step - loss: 0.1413 - accuracy: 0.9329 - val_loss: 0.1662 - val_accuracy: 0.9113\n",
      "Score for fold 7: loss of 0.21344707906246185; accuracy of 88.78281712532043%\n",
      "------------------------------------------------------------------------\n",
      "Training for fold 8 ...\n",
      "Epoch 1/10\n",
      "55/55 [==============================] - 2s 16ms/step - loss: 0.7621 - accuracy: 0.7476 - val_loss: 0.3102 - val_accuracy: 0.8848\n",
      "Epoch 2/10\n",
      "55/55 [==============================] - 1s 12ms/step - loss: 0.2393 - accuracy: 0.8977 - val_loss: 0.2035 - val_accuracy: 0.9060\n",
      "Epoch 3/10\n",
      "55/55 [==============================] - 1s 11ms/step - loss: 0.1796 - accuracy: 0.9170 - val_loss: 0.2474 - val_accuracy: 0.9046\n",
      "Epoch 4/10\n",
      "55/55 [==============================] - 1s 13ms/step - loss: 0.2083 - accuracy: 0.9119 - val_loss: 0.1376 - val_accuracy: 0.9152\n",
      "Epoch 5/10\n",
      "55/55 [==============================] - 1s 10ms/step - loss: 0.1492 - accuracy: 0.9261 - val_loss: 0.1326 - val_accuracy: 0.9298\n",
      "Epoch 6/10\n",
      "55/55 [==============================] - 1s 9ms/step - loss: 0.1600 - accuracy: 0.9198 - val_loss: 0.1424 - val_accuracy: 0.9113\n",
      "Epoch 7/10\n",
      "55/55 [==============================] - 1s 9ms/step - loss: 0.1512 - accuracy: 0.9159 - val_loss: 0.1268 - val_accuracy: 0.9338\n",
      "Epoch 8/10\n",
      "55/55 [==============================] - 1s 9ms/step - loss: 0.1330 - accuracy: 0.9318 - val_loss: 0.1225 - val_accuracy: 0.9258\n",
      "Epoch 9/10\n",
      "55/55 [==============================] - 1s 10ms/step - loss: 0.1429 - accuracy: 0.9238 - val_loss: 0.1263 - val_accuracy: 0.9245\n",
      "Epoch 10/10\n",
      "55/55 [==============================] - 1s 10ms/step - loss: 0.1343 - accuracy: 0.9318 - val_loss: 0.1154 - val_accuracy: 0.9404\n",
      "Score for fold 8: loss of 0.14066505432128906; accuracy of 94.15274262428284%\n",
      "------------------------------------------------------------------------\n",
      "Training for fold 9 ...\n",
      "Epoch 1/10\n",
      "55/55 [==============================] - 1s 13ms/step - loss: 0.7816 - accuracy: 0.7453 - val_loss: 0.2170 - val_accuracy: 0.8887\n",
      "Epoch 2/10\n",
      "55/55 [==============================] - 1s 10ms/step - loss: 0.2395 - accuracy: 0.8965 - val_loss: 0.1574 - val_accuracy: 0.9245\n",
      "Epoch 3/10\n",
      "55/55 [==============================] - 1s 11ms/step - loss: 0.1758 - accuracy: 0.9125 - val_loss: 0.1469 - val_accuracy: 0.9179\n",
      "Epoch 4/10\n",
      "55/55 [==============================] - 1s 10ms/step - loss: 0.1647 - accuracy: 0.9153 - val_loss: 0.1345 - val_accuracy: 0.9166\n",
      "Epoch 5/10\n",
      "55/55 [==============================] - 1s 10ms/step - loss: 0.1549 - accuracy: 0.9198 - val_loss: 0.2264 - val_accuracy: 0.9099\n",
      "Epoch 6/10\n",
      "55/55 [==============================] - 1s 9ms/step - loss: 0.1707 - accuracy: 0.9181 - val_loss: 0.1383 - val_accuracy: 0.9113\n",
      "Epoch 7/10\n",
      "55/55 [==============================] - 1s 10ms/step - loss: 0.1457 - accuracy: 0.9215 - val_loss: 0.1333 - val_accuracy: 0.9166\n",
      "Epoch 8/10\n",
      "55/55 [==============================] - 1s 9ms/step - loss: 0.1343 - accuracy: 0.9284 - val_loss: 0.1189 - val_accuracy: 0.9377\n",
      "Epoch 9/10\n",
      "55/55 [==============================] - 1s 9ms/step - loss: 0.1333 - accuracy: 0.9318 - val_loss: 0.1219 - val_accuracy: 0.9152\n",
      "Epoch 10/10\n",
      "55/55 [==============================] - 0s 9ms/step - loss: 0.1339 - accuracy: 0.9295 - val_loss: 0.1564 - val_accuracy: 0.9099\n",
      "Score for fold 9: loss of 0.19540239870548248; accuracy of 88.66348266601562%\n",
      "------------------------------------------------------------------------\n",
      "Training for fold 10 ...\n",
      "Epoch 1/10\n",
      "55/55 [==============================] - 1s 14ms/step - loss: 0.7414 - accuracy: 0.7550 - val_loss: 0.2177 - val_accuracy: 0.9113\n",
      "Epoch 2/10\n",
      "55/55 [==============================] - 1s 10ms/step - loss: 0.2251 - accuracy: 0.9073 - val_loss: 0.2551 - val_accuracy: 0.9060\n",
      "Epoch 3/10\n",
      "55/55 [==============================] - 1s 10ms/step - loss: 0.1846 - accuracy: 0.9187 - val_loss: 0.1910 - val_accuracy: 0.9060\n",
      "Epoch 4/10\n",
      "55/55 [==============================] - 1s 10ms/step - loss: 0.1699 - accuracy: 0.9181 - val_loss: 0.1639 - val_accuracy: 0.9099\n",
      "Epoch 5/10\n",
      "55/55 [==============================] - 1s 19ms/step - loss: 0.1503 - accuracy: 0.9210 - val_loss: 0.1313 - val_accuracy: 0.9351\n",
      "Epoch 6/10\n",
      "55/55 [==============================] - 1s 14ms/step - loss: 0.1478 - accuracy: 0.9227 - val_loss: 0.1262 - val_accuracy: 0.9364\n",
      "Epoch 7/10\n",
      "55/55 [==============================] - 1s 11ms/step - loss: 0.1338 - accuracy: 0.9312 - val_loss: 0.1446 - val_accuracy: 0.9166\n",
      "Epoch 8/10\n",
      "55/55 [==============================] - 1s 13ms/step - loss: 0.1405 - accuracy: 0.9358 - val_loss: 0.1371 - val_accuracy: 0.9179\n",
      "Epoch 9/10\n",
      "55/55 [==============================] - 1s 12ms/step - loss: 0.1417 - accuracy: 0.9233 - val_loss: 0.1097 - val_accuracy: 0.9589\n",
      "Epoch 10/10\n",
      "55/55 [==============================] - 1s 17ms/step - loss: 0.1326 - accuracy: 0.9335 - val_loss: 0.1219 - val_accuracy: 0.9470\n",
      "Score for fold 10: loss of 0.14284831285476685; accuracy of 94.6300745010376%\n"
     ]
    }
   ],
   "source": [
    "from keras.wrappers.scikit_learn import KerasClassifier\n",
    "from sklearn.model_selection import KFold\n",
    "from sklearn.model_selection import cross_val_score\n",
    "\n",
    "kfold = KFold(n_splits=10, shuffle=True)\n",
    "\n",
    "X = chainCodes\n",
    "y = dados[:,-1]\n",
    "\n",
    "X_train, X_test, y_train, y_test = train_test_split(X, y, test_size=0.25, random_state=84)\n",
    "\n",
    "y_train_cat = to_categorical(y_train)\n",
    "y_test_cat = to_categorical(y_test)\n",
    "\n",
    "inputs = np.concatenate((X_train, X_test), axis=0)\n",
    "targets = np.concatenate((y_train_cat, y_test_cat), axis=0)\n",
    "\n",
    "acc_per_fold = []\n",
    "loss_per_fold = []\n",
    "\n",
    "fold_no = 1\n",
    "for train, test in kfold.split(inputs, targets):\n",
    "    model = Sequential()\n",
    "\n",
    "    model.add(Dense(512, input_dim=67, activation='relu'))\n",
    "    model.add(Dropout(0.2))\n",
    "    model.add(Dense(512, activation='relu'))\n",
    "    model.add(Dropout(0.2))\n",
    "    model.add(Dense(10, activation='softmax'))\n",
    "    model.compile(optimizer='adam', loss='categorical_crossentropy', metrics=['accuracy']) #Otimização do modelo\n",
    "    \n",
    "    print('------------------------------------------------------------------------')\n",
    "    print(f'Training for fold {fold_no} ...')\n",
    "    \n",
    "    h = model.fit(X_train, y_train_cat, epochs=10, verbose=1, validation_split=0.3)\n",
    "    \n",
    "    scores = model.evaluate(X_test, y_test_cat, verbose=0)\n",
    "    print(f'Score for fold {fold_no}: {model.metrics_names[0]} of {scores[0]}; {model.metrics_names[1]} of {scores[1]*100}%')\n",
    "    acc_per_fold.append(scores[1] * 100)\n",
    "    loss_per_fold.append(scores[0])\n",
    "    \n",
    "    fold_no = fold_no + 1"
   ]
  },
  {
   "cell_type": "code",
   "execution_count": 71,
   "id": "eb0b8e37",
   "metadata": {},
   "outputs": [
    {
     "name": "stdout",
     "output_type": "stream",
     "text": [
      "Acurácia média = 91.51551246643066\n"
     ]
    }
   ],
   "source": [
    "print('Acurácia média = {}'.format(sum(acc_per_fold)/10))"
   ]
  },
  {
   "cell_type": "code",
   "execution_count": 72,
   "id": "e50f3566",
   "metadata": {},
   "outputs": [
    {
     "data": {
      "text/plain": [
       "[88.90214562416077,\n",
       " 88.90214562416077,\n",
       " 91.5274441242218,\n",
       " 92.2434389591217,\n",
       " 92.95942783355713,\n",
       " 94.39140558242798,\n",
       " 88.78281712532043,\n",
       " 94.15274262428284,\n",
       " 88.66348266601562,\n",
       " 94.6300745010376]"
      ]
     },
     "execution_count": 72,
     "metadata": {},
     "output_type": "execute_result"
    }
   ],
   "source": [
    "acc_per_fold"
   ]
  },
  {
   "cell_type": "code",
   "execution_count": null,
   "id": "b8c6a197",
   "metadata": {},
   "outputs": [],
   "source": []
  }
 ],
 "metadata": {
  "kernelspec": {
   "display_name": "Python data science",
   "language": "python",
   "name": "python-data-science"
  },
  "language_info": {
   "codemirror_mode": {
    "name": "ipython",
    "version": 3
   },
   "file_extension": ".py",
   "mimetype": "text/x-python",
   "name": "python",
   "nbconvert_exporter": "python",
   "pygments_lexer": "ipython3",
   "version": "3.7.0"
  }
 },
 "nbformat": 4,
 "nbformat_minor": 5
}
